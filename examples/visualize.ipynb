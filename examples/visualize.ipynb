{
 "cells": [
  {
   "cell_type": "code",
   "execution_count": 1,
   "metadata": {},
   "outputs": [
    {
     "ename": "ModuleNotFoundError",
     "evalue": "No module named 'imm'",
     "output_type": "error",
     "traceback": [
      "\u001b[0;31m---------------------------------------------------------------------------\u001b[0m",
      "\u001b[0;31mModuleNotFoundError\u001b[0m                       Traceback (most recent call last)",
      "\u001b[0;32m<ipython-input-1-e460b713f2bb>\u001b[0m in \u001b[0;36m<module>\u001b[0;34m\u001b[0m\n\u001b[1;32m      9\u001b[0m \u001b[0;32mimport\u001b[0m \u001b[0mtensorflow\u001b[0m \u001b[0;32mas\u001b[0m \u001b[0mtf\u001b[0m\u001b[0;34m\u001b[0m\u001b[0;34m\u001b[0m\u001b[0m\n\u001b[1;32m     10\u001b[0m \u001b[0;34m\u001b[0m\u001b[0m\n\u001b[0;32m---> 11\u001b[0;31m \u001b[0;32mfrom\u001b[0m \u001b[0mimm\u001b[0m\u001b[0;34m.\u001b[0m\u001b[0mmodels\u001b[0m\u001b[0;34m.\u001b[0m\u001b[0mimm_model\u001b[0m \u001b[0;32mimport\u001b[0m \u001b[0mIMMModel\u001b[0m\u001b[0;34m\u001b[0m\u001b[0;34m\u001b[0m\u001b[0m\n\u001b[0m\u001b[1;32m     12\u001b[0m \u001b[0;32mfrom\u001b[0m \u001b[0mimm\u001b[0m\u001b[0;34m.\u001b[0m\u001b[0meval\u001b[0m\u001b[0;34m.\u001b[0m\u001b[0meval_imm\u001b[0m \u001b[0;32mimport\u001b[0m \u001b[0mload_configs\u001b[0m\u001b[0;34m\u001b[0m\u001b[0;34m\u001b[0m\u001b[0m\n\u001b[1;32m     13\u001b[0m \u001b[0;32mfrom\u001b[0m \u001b[0mimm\u001b[0m\u001b[0;34m.\u001b[0m\u001b[0mutils\u001b[0m\u001b[0;34m.\u001b[0m\u001b[0mplot_landmarks\u001b[0m \u001b[0;32mimport\u001b[0m \u001b[0mplot_landmarks\u001b[0m\u001b[0;34m\u001b[0m\u001b[0;34m\u001b[0m\u001b[0m\n",
      "\u001b[0;31mModuleNotFoundError\u001b[0m: No module named 'imm'"
     ]
    }
   ],
   "source": [
    "from __future__ import print_function\n",
    "from __future__ import absolute_import\n",
    "\n",
    "import os\n",
    "from PIL import Image\n",
    "import matplotlib.pyplot as plt\n",
    "\n",
    "import numpy as np\n",
    "import tensorflow as tf\n",
    "\n",
    "from imm.models.imm_model import IMMModel\n",
    "from imm.eval.eval_imm import load_configs\n",
    "from imm.utils.plot_landmarks import plot_landmarks"
   ]
  },
  {
   "cell_type": "code",
   "execution_count": null,
   "metadata": {},
   "outputs": [],
   "source": [
    "# configuration\n",
    "image_size = [128, 128] # h, w\n",
    "paths_config = os.path.join('..', 'configs', 'paths', 'default.yaml')\n",
    "experiment_name = 'aflw-10pts-finetune'\n",
    "images_dir =  os.path.join('resources', 'visualize')\n",
    "\n",
    "config = load_configs(\n",
    "    [paths_config,\n",
    "     os.path.join('..', 'configs', 'experiments', experiment_name + '.yaml')])\n",
    "\n",
    "checkpoint_name = 'model.ckpt'\n",
    "checkpoint_file = os.path.join(config.training.logdir, checkpoint_name)"
   ]
  },
  {
   "cell_type": "code",
   "execution_count": null,
   "metadata": {},
   "outputs": [],
   "source": [
    "# load images\n",
    "image_files = os.listdir(images_dir)\n",
    "images = []\n",
    "for image_file in image_files:\n",
    "    image = Image.open(os.path.join(images_dir, image_file))\n",
    "    image = np.array(image.resize(image_size[::-1]), dtype=np.float32)\n",
    "    images.append(image)\n",
    "images = np.array(images)"
   ]
  },
  {
   "cell_type": "code",
   "execution_count": null,
   "metadata": {},
   "outputs": [],
   "source": [
    "with tf.Graph().as_default() as graph:\n",
    "    # set up dataset\n",
    "    dataset = tf.data.Dataset.from_tensors({'image': images, 'future_image': images})\n",
    "    iterator = dataset.make_one_shot_iterator()\n",
    "    inputs = iterator.get_next()\n",
    "    \n",
    "    # set up model\n",
    "    training_pl = False\n",
    "    net_instance = IMMModel(config.model)\n",
    "    _, _, _, tensors = net_instance.build(\n",
    "        inputs, training_pl=training_pl, output_tensors=True, build_loss=False)\n",
    "    \n",
    "    # start a new session\n",
    "    session_config = tf.ConfigProto(allow_soft_placement=True,\n",
    "                                    log_device_placement=False)\n",
    "    session_config.gpu_options.allow_growth = True\n",
    "    with tf.Session(config=session_config) as session:\n",
    "        global_init = tf.global_variables_initializer()\n",
    "        local_init = tf.local_variables_initializer()\n",
    "        session.run([global_init, local_init])\n",
    "\n",
    "        # restore checkpoint\n",
    "        if tf.gfile.Exists(checkpoint_file) or tf.gfile.Exists(checkpoint_file + '.index'):\n",
    "            reader = tf.train.NewCheckpointReader(checkpoint_file)\n",
    "            vars_to_restore = tf.global_variables()\n",
    "            checkpoint_vars = reader.get_variable_to_shape_map().keys()\n",
    "            vars_ignored = [\n",
    "                v.name for v in vars_to_restore if v.name[:-2] not in checkpoint_vars]\n",
    "            if vars_ignored:\n",
    "                print('vars-IGNORED (not restoring)')\n",
    "                print(', '.join(vars_ignored))\n",
    "            vars_to_restore = [\n",
    "                v for v in vars_to_restore if v.name[:-2] in checkpoint_vars]\n",
    "            restorer = tf.train.Saver(var_list=vars_to_restore)\n",
    "            restorer.restore(session, checkpoint_file)\n",
    "        else:\n",
    "            raise Exception('model file does not exist at: ' + checkpoint_file)\n",
    "\n",
    "        # evaluate model\n",
    "        landmarks = session.run(tensors['gauss_yx'])    "
   ]
  },
  {
   "cell_type": "code",
   "execution_count": null,
   "metadata": {},
   "outputs": [],
   "source": [
    "# denormalize landmarks\n",
    "landmarks = ((landmarks + 1) / 2.0) * np.array(image_size)"
   ]
  },
  {
   "cell_type": "code",
   "execution_count": null,
   "metadata": {},
   "outputs": [],
   "source": [
    "# plot unsupervised landmarks\n",
    "cols = min(4, len(images))\n",
    "rows = int(np.ceil(len(images) / float(cols)))\n",
    "fig, axs = plt.subplots(rows, cols, figsize=(4 * cols, 4 * rows))\n",
    "for i, ax in enumerate(np.ravel(axs)):\n",
    "    if i < len(images):\n",
    "        ax.imshow(images[i].astype(np.uint8))\n",
    "        plot_landmarks(ax, landmarks[i], size=2.5)\n",
    "    plt.tight_layout()\n",
    "    ax.set_yticklabels([])\n",
    "    ax.set_xticklabels([])\n",
    "    ax.set_axis_off()"
   ]
  },
  {
   "cell_type": "code",
   "execution_count": null,
   "metadata": {},
   "outputs": [],
   "source": []
  }
 ],
 "metadata": {
  "kernelspec": {
   "display_name": "Python3 (nips19)",
   "language": "python",
   "name": "nips19"
  },
  "language_info": {
   "codemirror_mode": {
    "name": "ipython",
    "version": 3
   },
   "file_extension": ".py",
   "mimetype": "text/x-python",
   "name": "python",
   "nbconvert_exporter": "python",
   "pygments_lexer": "ipython3",
   "version": "3.7.4"
  }
 },
 "nbformat": 4,
 "nbformat_minor": 4
}
